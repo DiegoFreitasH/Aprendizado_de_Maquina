{
 "cells": [
  {
   "cell_type": "code",
   "execution_count": 1,
   "id": "6f48be61-fd09-4e10-afaa-005cb7ef5044",
   "metadata": {},
   "outputs": [],
   "source": [
    "import numpy as np\n",
    "import pandas as pd\n",
    "import matplotlib.pyplot as plt\n",
    "from sklearn.metrics import plot_roc_curve, confusion_matrix, plot_confusion_matrix, plot_precision_recall_curve\n",
    "from sklearn.preprocessing import StandardScaler\n",
    "from sklearn.pipeline import make_pipeline\n",
    "from sklearn.model_selection import GridSearchCV, train_test_split, KFold\n",
    "from sklearn.svm import SVC\n",
    "from sklearn.ensemble import RandomForestClassifier"
   ]
  },
  {
   "cell_type": "code",
   "execution_count": 19,
   "id": "f78ca3ec-eefa-4265-9b21-11edd45a341f",
   "metadata": {},
   "outputs": [],
   "source": [
    "def standard_scaler(data):\n",
    "    mean = data.mean(axis=0)\n",
    "    std = data.std(axis=0)\n",
    "    norm = lambda x: (x - mean) / std\n",
    "    inv_norm = lambda norm_x: norm_x * std + mean\n",
    "    return norm(data), norm, inv_norm\n",
    "\n",
    "def accuracy_score(y_true, y_predict):\n",
    "    return np.sum(y_true == y_predict) / len(y_true)\n",
    "\n",
    "def recall_score(y_true, y_predict):\n",
    "    n_true_positives = np.count_nonzero((y_true == 1) & (y_predict == 1))\n",
    "    n_false_negatives = np.count_nonzero((y_true == 1) & (y_predict == 0))\n",
    "    return n_true_positives / (n_true_positives + n_false_negatives)\n",
    "\n",
    "def precision_score(y_true, y_predict):\n",
    "    n_true_positives = np.count_nonzero((y_true == 1) & (y_predict == 1))\n",
    "    n_false_positives = np.count_nonzero((y_true == 0) & (y_predict == 1))\n",
    "    return n_true_positives / (n_true_positives + n_false_positives)\n",
    "\n",
    "def f1_score(y_true, y_predict):\n",
    "    recall = recall_score(y_true, y_predict)\n",
    "    precision = precision_score(y_true, y_predict)\n",
    "    return 2 * (recall * precision) / (recall + precision)\n",
    "\n",
    "def print_model_scores(model, x_test, y_test):\n",
    "    y_predict = model.predict(x_test).ravel()\n",
    "    y_test = y_test.ravel()\n",
    "    # Make sure both have the same format\n",
    "    print(f'Accuracy: {accuracy_score(y_predict, y_test)}')\n",
    "    print(f'Precision: {precision_score(y_predict, y_test)}')\n",
    "    print(f'Recall: {recall_score(y_predict, y_test)}')\n",
    "    print(f'F1-Score: {f1_score(y_predict, y_test)}')"
   ]
  },
  {
   "cell_type": "markdown",
   "id": "145e0cb6-ea5c-4f02-b0e6-841dca170b63",
   "metadata": {},
   "source": [
    "## Boston Dataset"
   ]
  },
  {
   "cell_type": "code",
   "execution_count": 3,
   "id": "1ab306b7-e2a1-4fe6-97c5-b0f76f4ec934",
   "metadata": {},
   "outputs": [],
   "source": [
    "boston = np.genfromtxt('./bostonbin.csv', delimiter=',')\n",
    "X, Y = boston[:, :-1], boston[:, [-1]]"
   ]
  },
  {
   "cell_type": "code",
   "execution_count": 4,
   "id": "a3aecdd1-78e8-4eab-b26d-f955606c7a1b",
   "metadata": {},
   "outputs": [
    {
     "data": {
      "text/plain": [
       "((404, 17), (404, 1))"
      ]
     },
     "execution_count": 4,
     "metadata": {},
     "output_type": "execute_result"
    }
   ],
   "source": [
    "x_train, x_test, y_train, y_test = train_test_split(X, Y, test_size=.2)\n",
    "x_train.shape, y_train.shape"
   ]
  },
  {
   "cell_type": "markdown",
   "id": "7553bbd2-a685-49bd-b733-59fe620d0799",
   "metadata": {},
   "source": [
    "## Definição do espaço de busca"
   ]
  },
  {
   "cell_type": "code",
   "execution_count": 6,
   "id": "415d38b8-66cd-4488-bde6-9c3622969171",
   "metadata": {},
   "outputs": [],
   "source": [
    "svm_search_params = {\n",
    "    'svc__C': [2**i for i in range(-5, 16)],\n",
    "    'svc__gamma': [2**i for i in range(-15, 4)],\n",
    "    'svc__kernel': ['rbf']\n",
    "}\n",
    "\n",
    "rfc_search_params = {\n",
    "    'randomforestclassifier__n_estimators': [10 * i for i in range(1, 21)],\n",
    "    'randomforestclassifier__max_depth': [2, 4, 8, None]\n",
    "}"
   ]
  },
  {
   "cell_type": "code",
   "execution_count": 7,
   "id": "3f05b62d-1b69-4701-b6d4-276a3f3e8090",
   "metadata": {},
   "outputs": [],
   "source": [
    "svm_pipeline = make_pipeline(\n",
    "    StandardScaler(),\n",
    "    SVC()\n",
    ")"
   ]
  },
  {
   "cell_type": "markdown",
   "id": "82587293-18d5-4a9f-af00-bda8715f109f",
   "metadata": {},
   "source": [
    "## SVC - Suport Vector Classifier"
   ]
  },
  {
   "cell_type": "code",
   "execution_count": 12,
   "id": "176b5bf6-d550-49fa-bcf0-37bd50578ef6",
   "metadata": {},
   "outputs": [],
   "source": [
    "svm_grid = GridSearchCV(svm_pipeline, svm_search_params, cv=10, refit=True)\n",
    "svm_grid.fit(x_train, y_train.ravel())\n",
    "svm_model = svm_grid.best_estimator_"
   ]
  },
  {
   "cell_type": "code",
   "execution_count": 13,
   "id": "293ecf10-70d4-4cf9-9a2c-91b16b21a124",
   "metadata": {},
   "outputs": [
    {
     "data": {
      "text/html": [
       "<div>\n",
       "<style scoped>\n",
       "    .dataframe tbody tr th:only-of-type {\n",
       "        vertical-align: middle;\n",
       "    }\n",
       "\n",
       "    .dataframe tbody tr th {\n",
       "        vertical-align: top;\n",
       "    }\n",
       "\n",
       "    .dataframe thead th {\n",
       "        text-align: right;\n",
       "    }\n",
       "</style>\n",
       "<table border=\"1\" class=\"dataframe\">\n",
       "  <thead>\n",
       "    <tr style=\"text-align: right;\">\n",
       "      <th></th>\n",
       "      <th>mean_fit_time</th>\n",
       "      <th>std_fit_time</th>\n",
       "      <th>mean_score_time</th>\n",
       "      <th>std_score_time</th>\n",
       "      <th>param_svc__C</th>\n",
       "      <th>param_svc__gamma</th>\n",
       "      <th>param_svc__kernel</th>\n",
       "      <th>params</th>\n",
       "      <th>split0_test_score</th>\n",
       "      <th>split1_test_score</th>\n",
       "      <th>...</th>\n",
       "      <th>split3_test_score</th>\n",
       "      <th>split4_test_score</th>\n",
       "      <th>split5_test_score</th>\n",
       "      <th>split6_test_score</th>\n",
       "      <th>split7_test_score</th>\n",
       "      <th>split8_test_score</th>\n",
       "      <th>split9_test_score</th>\n",
       "      <th>mean_test_score</th>\n",
       "      <th>std_test_score</th>\n",
       "      <th>rank_test_score</th>\n",
       "    </tr>\n",
       "  </thead>\n",
       "  <tbody>\n",
       "    <tr>\n",
       "      <th>310</th>\n",
       "      <td>0.011358</td>\n",
       "      <td>0.001618</td>\n",
       "      <td>0.000976</td>\n",
       "      <td>0.000280</td>\n",
       "      <td>2048</td>\n",
       "      <td>0.001953</td>\n",
       "      <td>rbf</td>\n",
       "      <td>{'svc__C': 2048, 'svc__gamma': 0.001953125, 's...</td>\n",
       "      <td>0.902439</td>\n",
       "      <td>0.926829</td>\n",
       "      <td>...</td>\n",
       "      <td>0.902439</td>\n",
       "      <td>0.8</td>\n",
       "      <td>0.850</td>\n",
       "      <td>0.875</td>\n",
       "      <td>0.825</td>\n",
       "      <td>0.925</td>\n",
       "      <td>0.875</td>\n",
       "      <td>0.885732</td>\n",
       "      <td>0.049409</td>\n",
       "      <td>1</td>\n",
       "    </tr>\n",
       "    <tr>\n",
       "      <th>273</th>\n",
       "      <td>0.011987</td>\n",
       "      <td>0.003715</td>\n",
       "      <td>0.001785</td>\n",
       "      <td>0.000649</td>\n",
       "      <td>512</td>\n",
       "      <td>0.003906</td>\n",
       "      <td>rbf</td>\n",
       "      <td>{'svc__C': 512, 'svc__gamma': 0.00390625, 'svc...</td>\n",
       "      <td>0.902439</td>\n",
       "      <td>0.926829</td>\n",
       "      <td>...</td>\n",
       "      <td>0.902439</td>\n",
       "      <td>0.8</td>\n",
       "      <td>0.850</td>\n",
       "      <td>0.875</td>\n",
       "      <td>0.825</td>\n",
       "      <td>0.900</td>\n",
       "      <td>0.875</td>\n",
       "      <td>0.883232</td>\n",
       "      <td>0.047971</td>\n",
       "      <td>2</td>\n",
       "    </tr>\n",
       "    <tr>\n",
       "      <th>255</th>\n",
       "      <td>0.008256</td>\n",
       "      <td>0.000650</td>\n",
       "      <td>0.001051</td>\n",
       "      <td>0.000186</td>\n",
       "      <td>256</td>\n",
       "      <td>0.007812</td>\n",
       "      <td>rbf</td>\n",
       "      <td>{'svc__C': 256, 'svc__gamma': 0.0078125, 'svc_...</td>\n",
       "      <td>0.926829</td>\n",
       "      <td>0.902439</td>\n",
       "      <td>...</td>\n",
       "      <td>0.902439</td>\n",
       "      <td>0.8</td>\n",
       "      <td>0.825</td>\n",
       "      <td>0.875</td>\n",
       "      <td>0.825</td>\n",
       "      <td>0.925</td>\n",
       "      <td>0.875</td>\n",
       "      <td>0.883232</td>\n",
       "      <td>0.051732</td>\n",
       "      <td>2</td>\n",
       "    </tr>\n",
       "    <tr>\n",
       "      <th>347</th>\n",
       "      <td>0.016476</td>\n",
       "      <td>0.002125</td>\n",
       "      <td>0.000894</td>\n",
       "      <td>0.000040</td>\n",
       "      <td>8192</td>\n",
       "      <td>0.000977</td>\n",
       "      <td>rbf</td>\n",
       "      <td>{'svc__C': 8192, 'svc__gamma': 0.0009765625, '...</td>\n",
       "      <td>0.902439</td>\n",
       "      <td>0.926829</td>\n",
       "      <td>...</td>\n",
       "      <td>0.853659</td>\n",
       "      <td>0.8</td>\n",
       "      <td>0.850</td>\n",
       "      <td>0.875</td>\n",
       "      <td>0.825</td>\n",
       "      <td>0.925</td>\n",
       "      <td>0.875</td>\n",
       "      <td>0.880854</td>\n",
       "      <td>0.049924</td>\n",
       "      <td>4</td>\n",
       "    </tr>\n",
       "    <tr>\n",
       "      <th>384</th>\n",
       "      <td>0.024645</td>\n",
       "      <td>0.003761</td>\n",
       "      <td>0.000899</td>\n",
       "      <td>0.000052</td>\n",
       "      <td>32768</td>\n",
       "      <td>0.000488</td>\n",
       "      <td>rbf</td>\n",
       "      <td>{'svc__C': 32768, 'svc__gamma': 0.00048828125,...</td>\n",
       "      <td>0.902439</td>\n",
       "      <td>0.926829</td>\n",
       "      <td>...</td>\n",
       "      <td>0.853659</td>\n",
       "      <td>0.8</td>\n",
       "      <td>0.850</td>\n",
       "      <td>0.875</td>\n",
       "      <td>0.825</td>\n",
       "      <td>0.925</td>\n",
       "      <td>0.875</td>\n",
       "      <td>0.880854</td>\n",
       "      <td>0.049924</td>\n",
       "      <td>4</td>\n",
       "    </tr>\n",
       "  </tbody>\n",
       "</table>\n",
       "<p>5 rows × 21 columns</p>\n",
       "</div>"
      ],
      "text/plain": [
       "     mean_fit_time  std_fit_time  mean_score_time  std_score_time  \\\n",
       "310       0.011358      0.001618         0.000976        0.000280   \n",
       "273       0.011987      0.003715         0.001785        0.000649   \n",
       "255       0.008256      0.000650         0.001051        0.000186   \n",
       "347       0.016476      0.002125         0.000894        0.000040   \n",
       "384       0.024645      0.003761         0.000899        0.000052   \n",
       "\n",
       "    param_svc__C param_svc__gamma param_svc__kernel  \\\n",
       "310         2048         0.001953               rbf   \n",
       "273          512         0.003906               rbf   \n",
       "255          256         0.007812               rbf   \n",
       "347         8192         0.000977               rbf   \n",
       "384        32768         0.000488               rbf   \n",
       "\n",
       "                                                params  split0_test_score  \\\n",
       "310  {'svc__C': 2048, 'svc__gamma': 0.001953125, 's...           0.902439   \n",
       "273  {'svc__C': 512, 'svc__gamma': 0.00390625, 'svc...           0.902439   \n",
       "255  {'svc__C': 256, 'svc__gamma': 0.0078125, 'svc_...           0.926829   \n",
       "347  {'svc__C': 8192, 'svc__gamma': 0.0009765625, '...           0.902439   \n",
       "384  {'svc__C': 32768, 'svc__gamma': 0.00048828125,...           0.902439   \n",
       "\n",
       "     split1_test_score  ...  split3_test_score  split4_test_score  \\\n",
       "310           0.926829  ...           0.902439                0.8   \n",
       "273           0.926829  ...           0.902439                0.8   \n",
       "255           0.902439  ...           0.902439                0.8   \n",
       "347           0.926829  ...           0.853659                0.8   \n",
       "384           0.926829  ...           0.853659                0.8   \n",
       "\n",
       "     split5_test_score  split6_test_score  split7_test_score  \\\n",
       "310              0.850              0.875              0.825   \n",
       "273              0.850              0.875              0.825   \n",
       "255              0.825              0.875              0.825   \n",
       "347              0.850              0.875              0.825   \n",
       "384              0.850              0.875              0.825   \n",
       "\n",
       "     split8_test_score  split9_test_score  mean_test_score  std_test_score  \\\n",
       "310              0.925              0.875         0.885732        0.049409   \n",
       "273              0.900              0.875         0.883232        0.047971   \n",
       "255              0.925              0.875         0.883232        0.051732   \n",
       "347              0.925              0.875         0.880854        0.049924   \n",
       "384              0.925              0.875         0.880854        0.049924   \n",
       "\n",
       "     rank_test_score  \n",
       "310                1  \n",
       "273                2  \n",
       "255                2  \n",
       "347                4  \n",
       "384                4  \n",
       "\n",
       "[5 rows x 21 columns]"
      ]
     },
     "execution_count": 13,
     "metadata": {},
     "output_type": "execute_result"
    }
   ],
   "source": [
    "pd.DataFrame(svm_grid.cv_results_).sort_values(by='rank_test_score').head(5)"
   ]
  },
  {
   "cell_type": "code",
   "execution_count": 21,
   "id": "eba09881-d3f9-4ccc-b5de-87e42bd6d3da",
   "metadata": {},
   "outputs": [
    {
     "name": "stdout",
     "output_type": "stream",
     "text": [
      "Accuracy: 0.8725490196078431\n",
      "Precision: 0.9104477611940298\n",
      "Recall: 0.8970588235294118\n",
      "F1-Score: 0.9037037037037037\n"
     ]
    },
    {
     "data": {
      "image/png": "[encoded data removed]",
      "text/plain": [
       "<Figure size 432x288 with 2 Axes>"
      ]
     },
     "metadata": {
      "needs_background": "light"
     },
     "output_type": "display_data"
    },
    {
     "data": {
      "image/png": "[encoded data removed]",
      "text/plain": [
       "<Figure size 432x288 with 1 Axes>"
      ]
     },
     "metadata": {
      "needs_background": "light"
     },
     "output_type": "display_data"
    },
    {
     "data": {
      "image/png": "[encoded data removed]",
      "text/plain": [
       "<Figure size 432x288 with 1 Axes>"
      ]
     },
     "metadata": {
      "needs_background": "light"
     },
     "output_type": "display_data"
    }
   ],
   "source": [
    "print_model_scores(svm_model, x_test, y_test)\n",
    "\n",
    "plot_confusion_matrix(svm_model, x_test, y_test.ravel(), cmap='Blues')\n",
    "plot_precision_recall_curve(svm_model, x_test, y_test.ravel())\n",
    "plot_roc_curve(svm_model, x_test, y_test.ravel());"
   ]
  },
  {
   "cell_type": "markdown",
   "id": "defc8ee5-b21b-4e4d-b765-0c697971c324",
   "metadata": {},
   "source": [
    "## Random Forest Classifier"
   ]
  },
  {
   "cell_type": "code",
   "execution_count": 15,
   "id": "3b19e5e1-f4f6-46ea-9e54-37b8225ac61f",
   "metadata": {},
   "outputs": [],
   "source": [
    "rfc_pipeline = make_pipeline(\n",
    "    StandardScaler(),\n",
    "    RandomForestClassifier()\n",
    ")"
   ]
  },
  {
   "cell_type": "code",
   "execution_count": 16,
   "id": "1f0dcb2e-7235-4f76-96b7-d5e88b77c991",
   "metadata": {},
   "outputs": [],
   "source": [
    "rfc_grid = GridSearchCV(rfc_pipeline, rfc_search_params, cv=10)\n",
    "rfc_grid.fit(x_train, y_train.ravel())\n",
    "rfc_model = rfc_grid.best_estimator_"
   ]
  },
  {
   "cell_type": "code",
   "execution_count": 17,
   "id": "3cf7e140-949f-40e8-8c40-519b224b19d4",
   "metadata": {},
   "outputs": [
    {
     "data": {
      "text/html": [
       "<div>\n",
       "<style scoped>\n",
       "    .dataframe tbody tr th:only-of-type {\n",
       "        vertical-align: middle;\n",
       "    }\n",
       "\n",
       "    .dataframe tbody tr th {\n",
       "        vertical-align: top;\n",
       "    }\n",
       "\n",
       "    .dataframe thead th {\n",
       "        text-align: right;\n",
       "    }\n",
       "</style>\n",
       "<table border=\"1\" class=\"dataframe\">\n",
       "  <thead>\n",
       "    <tr style=\"text-align: right;\">\n",
       "      <th></th>\n",
       "      <th>mean_fit_time</th>\n",
       "      <th>std_fit_time</th>\n",
       "      <th>mean_score_time</th>\n",
       "      <th>std_score_time</th>\n",
       "      <th>param_randomforestclassifier__max_depth</th>\n",
       "      <th>param_randomforestclassifier__n_estimators</th>\n",
       "      <th>params</th>\n",
       "      <th>split0_test_score</th>\n",
       "      <th>split1_test_score</th>\n",
       "      <th>split2_test_score</th>\n",
       "      <th>split3_test_score</th>\n",
       "      <th>split4_test_score</th>\n",
       "      <th>split5_test_score</th>\n",
       "      <th>split6_test_score</th>\n",
       "      <th>split7_test_score</th>\n",
       "      <th>split8_test_score</th>\n",
       "      <th>split9_test_score</th>\n",
       "      <th>mean_test_score</th>\n",
       "      <th>std_test_score</th>\n",
       "      <th>rank_test_score</th>\n",
       "    </tr>\n",
       "  </thead>\n",
       "  <tbody>\n",
       "    <tr>\n",
       "      <th>73</th>\n",
       "      <td>0.219269</td>\n",
       "      <td>0.003810</td>\n",
       "      <td>0.014313</td>\n",
       "      <td>0.000922</td>\n",
       "      <td>None</td>\n",
       "      <td>140</td>\n",
       "      <td>{'randomforestclassifier__max_depth': None, 'r...</td>\n",
       "      <td>0.878049</td>\n",
       "      <td>0.804878</td>\n",
       "      <td>0.97561</td>\n",
       "      <td>0.902439</td>\n",
       "      <td>0.850</td>\n",
       "      <td>0.825</td>\n",
       "      <td>0.850</td>\n",
       "      <td>0.875</td>\n",
       "      <td>0.900</td>\n",
       "      <td>0.900</td>\n",
       "      <td>0.876098</td>\n",
       "      <td>0.045596</td>\n",
       "      <td>1</td>\n",
       "    </tr>\n",
       "    <tr>\n",
       "      <th>72</th>\n",
       "      <td>0.205968</td>\n",
       "      <td>0.007996</td>\n",
       "      <td>0.013135</td>\n",
       "      <td>0.000444</td>\n",
       "      <td>None</td>\n",
       "      <td>130</td>\n",
       "      <td>{'randomforestclassifier__max_depth': None, 'r...</td>\n",
       "      <td>0.878049</td>\n",
       "      <td>0.878049</td>\n",
       "      <td>0.97561</td>\n",
       "      <td>0.902439</td>\n",
       "      <td>0.800</td>\n",
       "      <td>0.825</td>\n",
       "      <td>0.850</td>\n",
       "      <td>0.850</td>\n",
       "      <td>0.875</td>\n",
       "      <td>0.875</td>\n",
       "      <td>0.870915</td>\n",
       "      <td>0.044835</td>\n",
       "      <td>2</td>\n",
       "    </tr>\n",
       "    <tr>\n",
       "      <th>62</th>\n",
       "      <td>0.049621</td>\n",
       "      <td>0.004115</td>\n",
       "      <td>0.003687</td>\n",
       "      <td>0.000080</td>\n",
       "      <td>None</td>\n",
       "      <td>30</td>\n",
       "      <td>{'randomforestclassifier__max_depth': None, 'r...</td>\n",
       "      <td>0.804878</td>\n",
       "      <td>0.878049</td>\n",
       "      <td>0.97561</td>\n",
       "      <td>0.878049</td>\n",
       "      <td>0.850</td>\n",
       "      <td>0.850</td>\n",
       "      <td>0.875</td>\n",
       "      <td>0.825</td>\n",
       "      <td>0.900</td>\n",
       "      <td>0.850</td>\n",
       "      <td>0.868659</td>\n",
       "      <td>0.044335</td>\n",
       "      <td>3</td>\n",
       "    </tr>\n",
       "    <tr>\n",
       "      <th>50</th>\n",
       "      <td>0.171113</td>\n",
       "      <td>0.006409</td>\n",
       "      <td>0.011141</td>\n",
       "      <td>0.000406</td>\n",
       "      <td>8</td>\n",
       "      <td>110</td>\n",
       "      <td>{'randomforestclassifier__max_depth': 8, 'rand...</td>\n",
       "      <td>0.853659</td>\n",
       "      <td>0.829268</td>\n",
       "      <td>0.97561</td>\n",
       "      <td>0.902439</td>\n",
       "      <td>0.875</td>\n",
       "      <td>0.825</td>\n",
       "      <td>0.825</td>\n",
       "      <td>0.850</td>\n",
       "      <td>0.875</td>\n",
       "      <td>0.850</td>\n",
       "      <td>0.866098</td>\n",
       "      <td>0.043451</td>\n",
       "      <td>4</td>\n",
       "    </tr>\n",
       "    <tr>\n",
       "      <th>53</th>\n",
       "      <td>0.232470</td>\n",
       "      <td>0.039042</td>\n",
       "      <td>0.016109</td>\n",
       "      <td>0.003965</td>\n",
       "      <td>8</td>\n",
       "      <td>140</td>\n",
       "      <td>{'randomforestclassifier__max_depth': 8, 'rand...</td>\n",
       "      <td>0.878049</td>\n",
       "      <td>0.829268</td>\n",
       "      <td>0.97561</td>\n",
       "      <td>0.902439</td>\n",
       "      <td>0.800</td>\n",
       "      <td>0.825</td>\n",
       "      <td>0.825</td>\n",
       "      <td>0.850</td>\n",
       "      <td>0.900</td>\n",
       "      <td>0.875</td>\n",
       "      <td>0.866037</td>\n",
       "      <td>0.049038</td>\n",
       "      <td>5</td>\n",
       "    </tr>\n",
       "  </tbody>\n",
       "</table>\n",
       "</div>"
      ],
      "text/plain": [
       "    mean_fit_time  std_fit_time  mean_score_time  std_score_time  \\\n",
       "73       0.219269      0.003810         0.014313        0.000922   \n",
       "72       0.205968      0.007996         0.013135        0.000444   \n",
       "62       0.049621      0.004115         0.003687        0.000080   \n",
       "50       0.171113      0.006409         0.011141        0.000406   \n",
       "53       0.232470      0.039042         0.016109        0.003965   \n",
       "\n",
       "   param_randomforestclassifier__max_depth  \\\n",
       "73                                    None   \n",
       "72                                    None   \n",
       "62                                    None   \n",
       "50                                       8   \n",
       "53                                       8   \n",
       "\n",
       "   param_randomforestclassifier__n_estimators  \\\n",
       "73                                        140   \n",
       "72                                        130   \n",
       "62                                         30   \n",
       "50                                        110   \n",
       "53                                        140   \n",
       "\n",
       "                                               params  split0_test_score  \\\n",
       "73  {'randomforestclassifier__max_depth': None, 'r...           0.878049   \n",
       "72  {'randomforestclassifier__max_depth': None, 'r...           0.878049   \n",
       "62  {'randomforestclassifier__max_depth': None, 'r...           0.804878   \n",
       "50  {'randomforestclassifier__max_depth': 8, 'rand...           0.853659   \n",
       "53  {'randomforestclassifier__max_depth': 8, 'rand...           0.878049   \n",
       "\n",
       "    split1_test_score  split2_test_score  split3_test_score  \\\n",
       "73           0.804878            0.97561           0.902439   \n",
       "72           0.878049            0.97561           0.902439   \n",
       "62           0.878049            0.97561           0.878049   \n",
       "50           0.829268            0.97561           0.902439   \n",
       "53           0.829268            0.97561           0.902439   \n",
       "\n",
       "    split4_test_score  split5_test_score  split6_test_score  \\\n",
       "73              0.850              0.825              0.850   \n",
       "72              0.800              0.825              0.850   \n",
       "62              0.850              0.850              0.875   \n",
       "50              0.875              0.825              0.825   \n",
       "53              0.800              0.825              0.825   \n",
       "\n",
       "    split7_test_score  split8_test_score  split9_test_score  mean_test_score  \\\n",
       "73              0.875              0.900              0.900         0.876098   \n",
       "72              0.850              0.875              0.875         0.870915   \n",
       "62              0.825              0.900              0.850         0.868659   \n",
       "50              0.850              0.875              0.850         0.866098   \n",
       "53              0.850              0.900              0.875         0.866037   \n",
       "\n",
       "    std_test_score  rank_test_score  \n",
       "73        0.045596                1  \n",
       "72        0.044835                2  \n",
       "62        0.044335                3  \n",
       "50        0.043451                4  \n",
       "53        0.049038                5  "
      ]
     },
     "execution_count": 17,
     "metadata": {},
     "output_type": "execute_result"
    }
   ],
   "source": [
    "pd.DataFrame(rfc_grid.cv_results_).sort_values(by='rank_test_score').head(5)"
   ]
  },
  {
   "cell_type": "code",
   "execution_count": 20,
   "id": "73b08198-351c-446c-a1c3-f9cd7c5ce75c",
   "metadata": {},
   "outputs": [
    {
     "name": "stdout",
     "output_type": "stream",
     "text": [
      "Accuracy: 0.9019607843137255\n",
      "Precision: 0.9402985074626866\n",
      "Recall: 0.9130434782608695\n",
      "F1-Score: 0.9264705882352942\n"
     ]
    },
    {
     "data": {
      "image/png": "[encoded data removed]",
      "text/plain": [
       "<Figure size 432x288 with 2 Axes>"
      ]
     },
     "metadata": {
      "needs_background": "light"
     },
     "output_type": "display_data"
    },
    {
     "data": {
      "image/png": "[encoded data removed]",
      "text/plain": [
       "<Figure size 432x288 with 1 Axes>"
      ]
     },
     "metadata": {
      "needs_background": "light"
     },
     "output_type": "display_data"
    },
    {
     "data": {
      "image/png": "[encoded data removed]",
      "text/plain": [
       "<Figure size 432x288 with 1 Axes>"
      ]
     },
     "metadata": {
      "needs_background": "light"
     },
     "output_type": "display_data"
    }
   ],
   "source": [
    "print_model_scores(rfc_model, x_test, y_test)\n",
    "\n",
    "plot_confusion_matrix(rfc_model, x_test, y_test.ravel(), cmap='Blues')\n",
    "plot_precision_recall_curve(rfc_model, x_test, y_test.ravel())\n",
    "plot_roc_curve(rfc_model, x_test, y_test.ravel());"
   ]
  }
 ],
 "metadata": {
  "kernelspec": {
   "display_name": "Python 3",
   "language": "python",
   "name": "python3"
  },
  "language_info": {
   "codemirror_mode": {
    "name": "ipython",
    "version": 3
   },
   "file_extension": ".py",
   "mimetype": "text/x-python",
   "name": "python",
   "nbconvert_exporter": "python",
   "pygments_lexer": "ipython3",
   "version": "3.8.10"
  }
 },
 "nbformat": 4,
 "nbformat_minor": 5
}
