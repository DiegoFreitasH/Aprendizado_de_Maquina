{
 "cells": [
  {
   "cell_type": "code",
   "execution_count": 1,
   "metadata": {},
   "outputs": [],
   "source": [
    "import pandas as pd\n",
    "import numpy as np\n",
    "import matplotlib.pyplot as plt\n",
    "from sklearn.model_selection import KFold, train_test_split\n",
    "from sklearn.neural_network import MLPRegressor, MLPClassifier\n",
    "from sklearn.base import copy\n",
    "%matplotlib inline"
   ]
  },
  {
   "cell_type": "code",
   "execution_count": 2,
   "metadata": {},
   "outputs": [],
   "source": [
    "def standard_scaler(data):\n",
    "    mean = data.mean(axis=0)\n",
    "    std = data.std(axis=0)\n",
    "    norm = lambda x: (x - mean) / std\n",
    "    inv_norm = lambda norm_x: norm_x * std + mean\n",
    "    return norm(data), norm, inv_norm\n",
    "\n",
    "# Error functions\n",
    "def MSE(y, y_predict):\n",
    "    return np.mean((y.ravel() - y_predict.ravel())**2)\n",
    "\n",
    "def RMSE(y, y_predict):\n",
    "    return np.sqrt(MSE(y, y_predict))\n",
    "\n",
    "def neg_rmse(y, y_predict):\n",
    "    return -RMSE(y, y_predict)\n",
    "\n",
    "def MAE(y, y_predict):\n",
    "    y = y.ravel()\n",
    "    y_predict = y_predict.ravel()\n",
    "    return np.mean(np.abs(y - y_predict))\n",
    "\n",
    "def MRE(y, y_predict):\n",
    "    y = y.ravel()\n",
    "    y_predict = y_predict.ravel()\n",
    "    return np.mean(np.abs((y - y_predict) / y))\n",
    "\n",
    "def accurracy(y, y_predict):\n",
    "    return np.count_nonzero(y.ravel() == y_predict.ravel()) / len(y)    "
   ]
  },
  {
   "cell_type": "code",
   "execution_count": 3,
   "metadata": {},
   "outputs": [],
   "source": [
    "def kfold_validation(model, x, y, scorer, n_folds=5, add_bias=False, random_state=42, norm_x=False, norm_y=False, plot_loss=False, print_metrics={}):\n",
    "    kfold = KFold(n_splits=n_folds, shuffle=True, random_state=random_state)\n",
    "    results = []\n",
    "    \n",
    "    for i, (train_index, test_index) in enumerate(kfold.split(x)):\n",
    "        # get data\n",
    "        fold_x_train, fold_x_test = x[train_index], x[test_index]\n",
    "        fold_y_train, fold_y_test = y[train_index], y[test_index]\n",
    "\n",
    "        # norm\n",
    "        if(norm_x):\n",
    "            fold_x_train, norm_x, _ = standard_scaler(fold_x_train)\n",
    "            fold_x_test = norm_x(fold_x_test)\n",
    "        \n",
    "        if(add_bias):\n",
    "            fold_x_train = np.c_[fold_x_train, np.ones(len(fold_x_train))]\n",
    "            fold_x_test = np.c_[fold_x_test, np.ones(len(fold_x_test))]\n",
    "        \n",
    "        if(norm_y):\n",
    "            fold_y_train, _, inv_norm = standard_scaler(fold_y_train)\n",
    "\n",
    "\n",
    "        # Train\n",
    "        model.fit(fold_x_train, fold_y_train.ravel())\n",
    "        if(plot_loss):\n",
    "            plt.plot(model.loss_curve_, label=f'Fold {i+1}')\n",
    "        \n",
    "        # Predict\n",
    "        fold_y_predict = model.predict(fold_x_test)\n",
    "        if(norm_y):\n",
    "            fold_y_predict = inv_norm(fold_y_predict)\n",
    "        \n",
    "        if(len(print_metrics) != 0):\n",
    "            print(f'Fold {i+1}')\n",
    "            for metric, metric_function in print_metrics.items():\n",
    "                value = metric_function(fold_y_test,fold_y_predict)\n",
    "                print(f'{metric}: {value}')\n",
    "            print()\n",
    "        \n",
    "        results.append(scorer(fold_y_test , fold_y_predict))\n",
    "    if(plot_loss):\n",
    "        plt.legend();\n",
    "    return np.array(results).mean() "
   ]
  },
  {
   "cell_type": "code",
   "execution_count": 4,
   "metadata": {},
   "outputs": [],
   "source": [
    "class RandomSearch():\n",
    "    \n",
    "    def __init__(self, model, search_params, default_params, random_state=42):\n",
    "        self.base_model = model\n",
    "        self.search_params = search_params\n",
    "        self.default_params = default_params\n",
    "        self.random_state = random_state\n",
    "        np.random.seed(self.random_state)\n",
    "    \n",
    "    def fit(self, x, y, n_iter=10, **kargs):\n",
    "        self.scores = []\n",
    "        self.tested_params = []\n",
    "        for i in range(n_iter):\n",
    "            params = {}\n",
    "            for param, (base, values) in self.search_params.items():\n",
    "                if(base > 0):\n",
    "                    params[param] = base ** np.random.randint(\n",
    "                        low=values[0],\n",
    "                        high=values[1]\n",
    "                    )\n",
    "                else:\n",
    "                    params[param] = np.random.choice(values)\n",
    "            \n",
    "            model = self.base_model(\n",
    "                random_state=self.random_state,\n",
    "                **params,\n",
    "                **default_params\n",
    "            )\n",
    "            score = kfold_validation(model, x, y, random_state=self.random_state, **kargs)\n",
    "            self.scores.append(score)\n",
    "            self.tested_params.append(params)\n",
    "        \n",
    "        self.scores = np.array(self.scores)\n",
    "        self.tested_params = np.array(self.tested_params)\n",
    "        self.best_params = self.tested_params[self.scores.argmax()]\n",
    "        self.best_estimator = self.base_model(\n",
    "            random_state=self.random_state,\n",
    "            **self.best_params, \n",
    "            **self.default_params\n",
    "        )\n",
    "    \n",
    "    def get_scores_(self):\n",
    "        return pd.DataFrame(list(zip(self.scores, self.tested_params)), columns=['Score', 'Params'])\n"
   ]
  },
  {
   "cell_type": "markdown",
   "metadata": {},
   "source": [
    "## MLPRegressor - Concrete Dataset"
   ]
  },
  {
   "cell_type": "code",
   "execution_count": 5,
   "metadata": {},
   "outputs": [
    {
     "data": {
      "text/plain": [
       "((824, 8), (206, 8), (1030, 8))"
      ]
     },
     "execution_count": 5,
     "metadata": {},
     "output_type": "execute_result"
    }
   ],
   "source": [
    "concrete = np.genfromtxt('./concrete.csv', delimiter=',')\n",
    "X = concrete[:, :-1]\n",
    "Y = concrete[:, [-1]]\n",
    "\n",
    "x_train, x_test, y_train, y_test = train_test_split(X, Y, test_size=.2)\n",
    "x_train.shape, x_test.shape, X.shape"
   ]
  },
  {
   "cell_type": "code",
   "execution_count": 6,
   "metadata": {},
   "outputs": [
    {
     "data": {
      "text/html": [
       "<div>\n",
       "<style scoped>\n",
       "    .dataframe tbody tr th:only-of-type {\n",
       "        vertical-align: middle;\n",
       "    }\n",
       "\n",
       "    .dataframe tbody tr th {\n",
       "        vertical-align: top;\n",
       "    }\n",
       "\n",
       "    .dataframe thead th {\n",
       "        text-align: right;\n",
       "    }\n",
       "</style>\n",
       "<table border=\"1\" class=\"dataframe\">\n",
       "  <thead>\n",
       "    <tr style=\"text-align: right;\">\n",
       "      <th></th>\n",
       "      <th>Score</th>\n",
       "      <th>Params</th>\n",
       "    </tr>\n",
       "  </thead>\n",
       "  <tbody>\n",
       "    <tr>\n",
       "      <th>0</th>\n",
       "      <td>-6.319851</td>\n",
       "      <td>{'hidden_layer_sizes': 128, 'learning_rate_ini...</td>\n",
       "    </tr>\n",
       "    <tr>\n",
       "      <th>1</th>\n",
       "      <td>-5.784903</td>\n",
       "      <td>{'hidden_layer_sizes': 64, 'learning_rate_init...</td>\n",
       "    </tr>\n",
       "    <tr>\n",
       "      <th>2</th>\n",
       "      <td>-6.343078</td>\n",
       "      <td>{'hidden_layer_sizes': 256, 'learning_rate_ini...</td>\n",
       "    </tr>\n",
       "    <tr>\n",
       "      <th>3</th>\n",
       "      <td>-6.230757</td>\n",
       "      <td>{'hidden_layer_sizes': 64, 'learning_rate_init...</td>\n",
       "    </tr>\n",
       "    <tr>\n",
       "      <th>4</th>\n",
       "      <td>-5.784903</td>\n",
       "      <td>{'hidden_layer_sizes': 64, 'learning_rate_init...</td>\n",
       "    </tr>\n",
       "    <tr>\n",
       "      <th>5</th>\n",
       "      <td>-5.938518</td>\n",
       "      <td>{'hidden_layer_sizes': 128, 'learning_rate_ini...</td>\n",
       "    </tr>\n",
       "    <tr>\n",
       "      <th>6</th>\n",
       "      <td>-5.845473</td>\n",
       "      <td>{'hidden_layer_sizes': 256, 'learning_rate_ini...</td>\n",
       "    </tr>\n",
       "    <tr>\n",
       "      <th>7</th>\n",
       "      <td>-5.794227</td>\n",
       "      <td>{'hidden_layer_sizes': 32, 'learning_rate_init...</td>\n",
       "    </tr>\n",
       "    <tr>\n",
       "      <th>8</th>\n",
       "      <td>-5.692968</td>\n",
       "      <td>{'hidden_layer_sizes': 16, 'learning_rate_init...</td>\n",
       "    </tr>\n",
       "    <tr>\n",
       "      <th>9</th>\n",
       "      <td>-5.845462</td>\n",
       "      <td>{'hidden_layer_sizes': 256, 'learning_rate_ini...</td>\n",
       "    </tr>\n",
       "  </tbody>\n",
       "</table>\n",
       "</div>"
      ],
      "text/plain": [
       "      Score                                             Params\n",
       "0 -6.319851  {'hidden_layer_sizes': 128, 'learning_rate_ini...\n",
       "1 -5.784903  {'hidden_layer_sizes': 64, 'learning_rate_init...\n",
       "2 -6.343078  {'hidden_layer_sizes': 256, 'learning_rate_ini...\n",
       "3 -6.230757  {'hidden_layer_sizes': 64, 'learning_rate_init...\n",
       "4 -5.784903  {'hidden_layer_sizes': 64, 'learning_rate_init...\n",
       "5 -5.938518  {'hidden_layer_sizes': 128, 'learning_rate_ini...\n",
       "6 -5.845473  {'hidden_layer_sizes': 256, 'learning_rate_ini...\n",
       "7 -5.794227  {'hidden_layer_sizes': 32, 'learning_rate_init...\n",
       "8 -5.692968  {'hidden_layer_sizes': 16, 'learning_rate_init...\n",
       "9 -5.845462  {'hidden_layer_sizes': 256, 'learning_rate_ini..."
      ]
     },
     "execution_count": 6,
     "metadata": {},
     "output_type": "execute_result"
    }
   ],
   "source": [
    "params = {\n",
    "    'hidden_layer_sizes': (2, [4, 9]),\n",
    "    'learning_rate_init': (10, [-3, -1]),\n",
    "    'alpha': (10, [-6, -3]),\n",
    "}\n",
    "\n",
    "default_params = {\n",
    "    'max_iter': 1000,\n",
    "    'batch_size': 32,\n",
    "    'solver': 'sgd',\n",
    "    'momentum': .9,\n",
    "    'shuffle': True,\n",
    "    'activation': 'tanh',\n",
    "}\n",
    "\n",
    "grid = RandomSearch(MLPRegressor, params, default_params, random_state=42)\n",
    "grid.fit(x_train,y_train, n_iter=10, n_folds=5, add_bias=True, norm_x=True, norm_y=True, scorer=neg_rmse)\n",
    "model = grid.best_estimator\n",
    "grid.get_scores_()"
   ]
  },
  {
   "cell_type": "code",
   "execution_count": 7,
   "metadata": {},
   "outputs": [
    {
     "name": "stdout",
     "output_type": "stream",
     "text": [
      "Validation Metrics\n",
      "Fold 1\n",
      "RMSE: 5.230423814970891\n",
      "MAE: 3.7963078428566743\n",
      "MRE: 0.12625973870435872\n",
      "\n",
      "Fold 2\n",
      "RMSE: 5.369330330104462\n",
      "MAE: 3.9652677720471976\n",
      "MRE: 0.12134193157258451\n",
      "\n",
      "Fold 3\n",
      "RMSE: 5.265922577843142\n",
      "MAE: 3.979970139812391\n",
      "MRE: 0.1491802450900546\n",
      "\n",
      "Fold 4\n",
      "RMSE: 5.9261198805242845\n",
      "MAE: 4.4025267740642136\n",
      "MRE: 0.14452569768234957\n",
      "\n",
      "Fold 5\n",
      "RMSE: 6.67304432250736\n",
      "MAE: 4.998628780474472\n",
      "MRE: 0.18049925569323957\n",
      "\n"
     ]
    },
    {
     "data": {
      "image/png": "[encoded data removed]",
      "text/plain": [
       "<Figure size 432x288 with 1 Axes>"
      ]
     },
     "metadata": {
      "needs_background": "light"
     },
     "output_type": "display_data"
    }
   ],
   "source": [
    "print('Validation Metrics')\n",
    "score = kfold_validation(model,\n",
    "                 x_train,\n",
    "                 y_train,\n",
    "                 random_state = grid.random_state,\n",
    "                 scorer=neg_rmse,\n",
    "                 norm_x=True,\n",
    "                 norm_y=True,\n",
    "                 n_folds=5, \n",
    "                 plot_loss=True,\n",
    "                 add_bias=True,\n",
    "                 print_metrics={\n",
    "                    'RMSE': RMSE,\n",
    "                    'MAE': MAE,\n",
    "                    'MRE': MRE\n",
    "                })\n",
    "plt.title('Loss Curve (Train)');"
   ]
  },
  {
   "cell_type": "code",
   "execution_count": 8,
   "metadata": {},
   "outputs": [
    {
     "data": {
      "image/png": "[encoded data removed]",
      "text/plain": [
       "<Figure size 432x288 with 1 Axes>"
      ]
     },
     "metadata": {
      "needs_background": "light"
     },
     "output_type": "display_data"
    }
   ],
   "source": [
    "norm_x_train, norm_x, _  = standard_scaler(x_train)\n",
    "norm_y_train, _, inv_norm = standard_scaler(y_train)\n",
    "\n",
    "model.fit(norm_x_train, norm_y_train.ravel())\n",
    "plt.title('Learning Curve (Train + Validation)')\n",
    "plt.plot(model.loss_curve_);"
   ]
  },
  {
   "cell_type": "code",
   "execution_count": 9,
   "metadata": {},
   "outputs": [
    {
     "name": "stdout",
     "output_type": "stream",
     "text": [
      "Matrics (Train + Validation)\n",
      "RMSE: 4.501564485656955\n",
      "MAE: 3.4286436302725565\n",
      "MRE: 0.12140620099170228\n",
      "\n",
      "Metrics (Test)\n",
      "RMSE: 5.593910113038309\n",
      "MAE: 4.2195771800782085\n",
      "MRE: 0.15823957102536457\n"
     ]
    }
   ],
   "source": [
    "norm_x_test = norm_x(x_test)\n",
    "\n",
    "y_predict = model.predict(norm_x_test)\n",
    "RMSE(inv_norm(y_predict), y_test)\n",
    "\n",
    "print('Matrics (Train + Validation)')\n",
    "print(f'RMSE: {RMSE(inv_norm(model.predict(norm_x_train)), y_train)}')\n",
    "print(f'MAE: {MAE(inv_norm(model.predict(norm_x_train)), y_train)}')\n",
    "print(f'MRE: {MRE(inv_norm(model.predict(norm_x_train)), y_train)}')\n",
    "\n",
    "print('\\nMetrics (Test)')\n",
    "print(f'RMSE: {RMSE(inv_norm(y_predict), y_test)}')\n",
    "print(f'MAE: {MAE(inv_norm(y_predict), y_test)}')\n",
    "print(f'MRE: {MRE(inv_norm(y_predict), y_test)}')"
   ]
  },
  {
   "cell_type": "markdown",
   "metadata": {},
   "source": [
    "## MLPClassifier - Vowels Dataset"
   ]
  },
  {
   "cell_type": "code",
   "execution_count": 10,
   "metadata": {},
   "outputs": [
    {
     "data": {
      "text/plain": [
       "((792, 10), (198, 10), (990, 10), (792, 1))"
      ]
     },
     "execution_count": 10,
     "metadata": {},
     "output_type": "execute_result"
    }
   ],
   "source": [
    "vowels = np.genfromtxt('./vowel.csv', delimiter=',')\n",
    "vowels_X = vowels[:, :-1]\n",
    "vowels_Y = vowels[:, [-1]]\n",
    "\n",
    "vowels_x_train, vowels_x_test, vowels_y_train, vowels_y_test = train_test_split(vowels_X, vowels_Y, test_size=.2)\n",
    "vowels_x_train.shape, vowels_x_test.shape, vowels_X.shape, vowels_y_train.shape"
   ]
  },
  {
   "cell_type": "code",
   "execution_count": 11,
   "metadata": {},
   "outputs": [
    {
     "data": {
      "text/html": [
       "<div>\n",
       "<style scoped>\n",
       "    .dataframe tbody tr th:only-of-type {\n",
       "        vertical-align: middle;\n",
       "    }\n",
       "\n",
       "    .dataframe tbody tr th {\n",
       "        vertical-align: top;\n",
       "    }\n",
       "\n",
       "    .dataframe thead th {\n",
       "        text-align: right;\n",
       "    }\n",
       "</style>\n",
       "<table border=\"1\" class=\"dataframe\">\n",
       "  <thead>\n",
       "    <tr style=\"text-align: right;\">\n",
       "      <th></th>\n",
       "      <th>Score</th>\n",
       "      <th>Params</th>\n",
       "    </tr>\n",
       "  </thead>\n",
       "  <tbody>\n",
       "    <tr>\n",
       "      <th>0</th>\n",
       "      <td>0.957081</td>\n",
       "      <td>{'hidden_layer_sizes': 256, 'learning_rate_ini...</td>\n",
       "    </tr>\n",
       "    <tr>\n",
       "      <th>1</th>\n",
       "      <td>0.958347</td>\n",
       "      <td>{'hidden_layer_sizes': 256, 'learning_rate_ini...</td>\n",
       "    </tr>\n",
       "    <tr>\n",
       "      <th>2</th>\n",
       "      <td>0.959613</td>\n",
       "      <td>{'hidden_layer_sizes': 512, 'learning_rate_ini...</td>\n",
       "    </tr>\n",
       "    <tr>\n",
       "      <th>3</th>\n",
       "      <td>0.955816</td>\n",
       "      <td>{'hidden_layer_sizes': 64, 'learning_rate_init...</td>\n",
       "    </tr>\n",
       "    <tr>\n",
       "      <th>4</th>\n",
       "      <td>0.955816</td>\n",
       "      <td>{'hidden_layer_sizes': 128, 'learning_rate_ini...</td>\n",
       "    </tr>\n",
       "    <tr>\n",
       "      <th>5</th>\n",
       "      <td>0.958347</td>\n",
       "      <td>{'hidden_layer_sizes': 256, 'learning_rate_ini...</td>\n",
       "    </tr>\n",
       "    <tr>\n",
       "      <th>6</th>\n",
       "      <td>0.957081</td>\n",
       "      <td>{'hidden_layer_sizes': 256, 'learning_rate_ini...</td>\n",
       "    </tr>\n",
       "    <tr>\n",
       "      <th>7</th>\n",
       "      <td>0.959613</td>\n",
       "      <td>{'hidden_layer_sizes': 512, 'learning_rate_ini...</td>\n",
       "    </tr>\n",
       "    <tr>\n",
       "      <th>8</th>\n",
       "      <td>0.957081</td>\n",
       "      <td>{'hidden_layer_sizes': 128, 'learning_rate_ini...</td>\n",
       "    </tr>\n",
       "    <tr>\n",
       "      <th>9</th>\n",
       "      <td>0.957081</td>\n",
       "      <td>{'hidden_layer_sizes': 128, 'learning_rate_ini...</td>\n",
       "    </tr>\n",
       "  </tbody>\n",
       "</table>\n",
       "</div>"
      ],
      "text/plain": [
       "      Score                                             Params\n",
       "0  0.957081  {'hidden_layer_sizes': 256, 'learning_rate_ini...\n",
       "1  0.958347  {'hidden_layer_sizes': 256, 'learning_rate_ini...\n",
       "2  0.959613  {'hidden_layer_sizes': 512, 'learning_rate_ini...\n",
       "3  0.955816  {'hidden_layer_sizes': 64, 'learning_rate_init...\n",
       "4  0.955816  {'hidden_layer_sizes': 128, 'learning_rate_ini...\n",
       "5  0.958347  {'hidden_layer_sizes': 256, 'learning_rate_ini...\n",
       "6  0.957081  {'hidden_layer_sizes': 256, 'learning_rate_ini...\n",
       "7  0.959613  {'hidden_layer_sizes': 512, 'learning_rate_ini...\n",
       "8  0.957081  {'hidden_layer_sizes': 128, 'learning_rate_ini...\n",
       "9  0.957081  {'hidden_layer_sizes': 128, 'learning_rate_ini..."
      ]
     },
     "execution_count": 11,
     "metadata": {},
     "output_type": "execute_result"
    }
   ],
   "source": [
    "params = {\n",
    "    'hidden_layer_sizes': (2, [6, 10]),\n",
    "    'learning_rate_init': (10, [-2, -1]),\n",
    "    'alpha': (10, [-5, -2]),\n",
    "}\n",
    "\n",
    "default_params = {\n",
    "    'max_iter': 1000,\n",
    "    'batch_size': 32,\n",
    "    'solver': 'sgd',\n",
    "    'momentum': .9,\n",
    "    'shuffle': True,\n",
    "    'activation': 'relu'\n",
    "}\n",
    "\n",
    "grid = RandomSearch(MLPClassifier, params, default_params, random_state=42)\n",
    "grid.fit(vowels_x_train, vowels_y_train, n_iter=10, n_folds=5, norm_x=True, scorer=accurracy)\n",
    "model = grid.best_estimator\n",
    "grid.get_scores_()"
   ]
  },
  {
   "cell_type": "code",
   "execution_count": 12,
   "metadata": {},
   "outputs": [
    {
     "name": "stdout",
     "output_type": "stream",
     "text": [
      "Validation Metrics\n",
      "\n",
      "Fold 1\n",
      "accurracy: 0.9559748427672956\n",
      "\n",
      "Fold 2\n",
      "accurracy: 0.949685534591195\n",
      "\n",
      "Fold 3\n",
      "accurracy: 0.9746835443037974\n",
      "\n",
      "Fold 4\n",
      "accurracy: 0.9746835443037974\n",
      "\n",
      "Fold 5\n",
      "accurracy: 0.9430379746835443\n",
      "\n"
     ]
    },
    {
     "data": {
      "image/png": "[encoded data removed]",
      "text/plain": [
       "<Figure size 432x288 with 1 Axes>"
      ]
     },
     "metadata": {
      "needs_background": "light"
     },
     "output_type": "display_data"
    }
   ],
   "source": [
    "print('Validation Metrics\\n')\n",
    "kfold_validation(model,\n",
    "                 vowels_x_train,\n",
    "                 vowels_y_train,\n",
    "                 scorer=accurracy,\n",
    "                 random_state=grid.random_state,\n",
    "                 norm_x=True,\n",
    "                 n_folds=5, \n",
    "                 plot_loss=True,\n",
    "                 print_metrics={\n",
    "                     'accurracy': accurracy\n",
    "                })\n",
    "plt.title('Loss Curve (Train)');"
   ]
  },
  {
   "cell_type": "code",
   "execution_count": 13,
   "metadata": {},
   "outputs": [
    {
     "data": {
      "image/png": "[encoded data removed]",
      "text/plain": [
       "<Figure size 432x288 with 1 Axes>"
      ]
     },
     "metadata": {
      "needs_background": "light"
     },
     "output_type": "display_data"
    }
   ],
   "source": [
    "norm_x_train, norm_x, _  = standard_scaler(vowels_x_train)\n",
    "\n",
    "model.fit(norm_x_train, vowels_y_train.ravel())\n",
    "plt.title('Learning Curve (Train + Validation)')\n",
    "plt.plot(model.loss_curve_);"
   ]
  },
  {
   "cell_type": "code",
   "execution_count": 14,
   "metadata": {},
   "outputs": [
    {
     "name": "stdout",
     "output_type": "stream",
     "text": [
      "Matrics (Train + Validation)\n",
      "Accurracy: 1.0\n",
      "\n",
      "Metrics (Test)\n",
      "Accurracy: 0.9646464646464646\n"
     ]
    }
   ],
   "source": [
    "norm_x_test = norm_x(vowels_x_test)\n",
    "\n",
    "y_predict = model.predict(norm_x_test)\n",
    "\n",
    "print('Matrics (Train + Validation)')\n",
    "print(f'Accurracy: {accurracy(model.predict(norm_x_train), vowels_y_train)}')\n",
    "\n",
    "print('\\nMetrics (Test)')\n",
    "print(f'Accurracy: {accurracy(y_predict, vowels_y_test)}')"
   ]
  }
 ],
 "metadata": {
  "kernelspec": {
   "display_name": "Python 3",
   "language": "python",
   "name": "python3"
  },
  "language_info": {
   "codemirror_mode": {
    "name": "ipython",
    "version": 3
   },
   "file_extension": ".py",
   "mimetype": "text/x-python",
   "name": "python",
   "nbconvert_exporter": "python",
   "pygments_lexer": "ipython3",
   "version": "3.8.10"
  },
  "toc-showcode": false,
  "toc-showtags": false
 },
 "nbformat": 4,
 "nbformat_minor": 4
}
